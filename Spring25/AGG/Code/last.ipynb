{
 "cells": [
  {
   "cell_type": "code",
   "execution_count": 1,
   "metadata": {},
   "outputs": [
    {
     "data": {
      "text/plain": [
       "'NVIDIA GeForce RTX 4080'"
      ]
     },
     "execution_count": 1,
     "metadata": {},
     "output_type": "execute_result"
    }
   ],
   "source": [
    "import pandas as pd\n",
    "import torch\n",
    "\n",
    "torch.cuda.get_device_name(0)"
   ]
  },
  {
   "cell_type": "code",
   "execution_count": 2,
   "metadata": {},
   "outputs": [],
   "source": [
    "file_path_1 = '/home/g/ghanaatian/MYFILES/Projects/Agriculture/TO CARAGEA WORKING 2022_2023 ALL LOC_KPEGG_MULTISPECTRAL_stacked.xls'\n",
    "sheet_name_1 = 'ALL MULTISPECTRAL'\n",
    "\n",
    "file_path_2 = '/home/g/ghanaatian/MYFILES/Projects/Agriculture/TO CARAGEA WORKING 2023 ALL LOC_KPEGG_THERMAL_stacked.xlsx'\n",
    "sheet_name_2 = '2023 thermal data'\n",
    "\n",
    "multispectral = pd.read_excel(file_path_1, sheet_name=sheet_name_1)\n",
    "thermal = pd.read_excel(file_path_2, sheet_name=sheet_name_2)"
   ]
  },
  {
   "cell_type": "code",
   "execution_count": 24,
   "metadata": {},
   "outputs": [
    {
     "name": "stdout",
     "output_type": "stream",
     "text": [
      "True\n",
      "True\n"
     ]
    }
   ],
   "source": [
    "print(multispectral.groupby(['expt', 'plot', 'entry'])['yield'].nunique().all())\n",
    "print(thermal.groupby(['expt', 'plot', 'entry'])['yield'].nunique().all())"
   ]
  },
  {
   "cell_type": "code",
   "execution_count": 6,
   "metadata": {},
   "outputs": [
    {
     "name": "stdout",
     "output_type": "stream",
     "text": [
      "              expt  plot entry  yield\n",
      "0     22 KPE GG F2  1321   621      1\n",
      "1     22 KPE GG F2  1322   306      1\n",
      "2     22 KPE GG F2  1323   146      1\n",
      "3     22 KPE GG F2  1324   138      1\n",
      "4     22 KPE GG F2  1325   166      1\n",
      "...            ...   ...   ...    ...\n",
      "2636  23 KPE GG F1  1977   318      1\n",
      "2637  23 KPE GG F1  1978   618      1\n",
      "2638  23 KPE GG F1  1979   491      1\n",
      "2639  23 KPE GG F1  1980   621      1\n",
      "2640   FILLER PLOT     .     .      1\n",
      "\n",
      "[2641 rows x 4 columns]\n",
      "**************************************************\n",
      "              expt  plot entry  yield\n",
      "0     23 KPE GG AW   661   621      1\n",
      "1     23 KPE GG AW   662   502      1\n",
      "2     23 KPE GG AW   663   480      1\n",
      "3     23 KPE GG AW   664   490      1\n",
      "4     23 KPE GG AW   665   138      1\n",
      "...            ...   ...   ...    ...\n",
      "1976  23 KPE GG F1  1977   318      1\n",
      "1977  23 KPE GG F1  1978   618      1\n",
      "1978  23 KPE GG F1  1979   491      1\n",
      "1979  23 KPE GG F1  1980   621      1\n",
      "1980   FILLER PLOT     .     .      2\n",
      "\n",
      "[1981 rows x 4 columns]\n"
     ]
    }
   ],
   "source": [
    "print(multispectral.groupby(['expt', 'plot', 'entry']).agg({'yield': 'nunique'}).reset_index())\n",
    "print(\"*\"*50)\n",
    "print(thermal.groupby(['expt', 'plot', 'entry']).agg({'yield': 'nunique'}).reset_index())"
   ]
  },
  {
   "cell_type": "code",
   "execution_count": 7,
   "metadata": {},
   "outputs": [],
   "source": [
    "multispectral_copy = multispectral.copy()\n",
    "thermal_copy = thermal.copy()\n",
    "\n",
    "# sort by expt, plot, entry\n",
    "multispectral_copy.sort_values(['expt', 'plot', 'entry'], inplace=True)\n",
    "thermal_copy.sort_values(['expt', 'plot', 'entry'], inplace=True)"
   ]
  },
  {
   "cell_type": "code",
   "execution_count": 13,
   "metadata": {},
   "outputs": [
    {
     "name": "stdout",
     "output_type": "stream",
     "text": [
      "          yield\n",
      "656   30.783881\n",
      "1316  30.783881\n",
      "1976  30.783881\n",
      "2636  30.783881\n",
      "3296  30.783881\n",
      "3956  30.783881\n",
      "4616  30.783881\n",
      "5276  30.783881\n",
      "5936  30.783881\n",
      "6596  30.783881\n",
      "7256  30.783881\n",
      "7916  30.783881\n",
      "8576  30.783881\n",
      "**************************************************\n",
      "          yield\n",
      "656   30.783881\n",
      "1316  30.783881\n",
      "1976  30.783881\n",
      "2636  30.783881\n"
     ]
    }
   ],
   "source": [
    "# in multispectral and thermal for plot= 1, expt= 23 KPE GG AWD, entry= 621 print all yield values\n",
    "print(multispectral_copy[(multispectral_copy['plot'] == 1977) & (multispectral_copy['expt'] == '23 KPE GG F1') & (multispectral_copy['entry'] == 318)][['yield']])\n",
    "print(\"*\"*50)\n",
    "print(thermal_copy[(thermal_copy['plot'] == 1977) & (thermal_copy['expt'] == '23 KPE GG F1') & (thermal_copy['entry'] == 318)][['yield']])\n"
   ]
  },
  {
   "cell_type": "code",
   "execution_count": 17,
   "metadata": {},
   "outputs": [
    {
     "name": "stdout",
     "output_type": "stream",
     "text": [
      "      entry      yield\n",
      "9260    621  31.576054\n",
      "10620   621  31.576054\n",
      "11980   621  31.576054\n",
      "13340   621  31.576054\n",
      "14700   621  31.576054\n",
      "16060   621  31.576054\n",
      "17420   621  31.576054\n",
      "18780   621  31.576054\n",
      "20140   621  31.576054\n",
      "21500   621  31.576054\n",
      "**************************************************\n",
      "     entry      yield\n",
      "3320   621  31.576054\n",
      "4680   621  31.576054\n",
      "6040   621  31.576054\n"
     ]
    }
   ],
   "source": [
    "print(multispectral_copy[(multispectral_copy['plot'] == 661) & (multispectral_copy['expt'] == '23 KPE GG AW') ][['entry', 'yield']])\n",
    "print(\"*\"*50)\n",
    "print(thermal_copy[(thermal_copy['plot'] == 661) & (thermal_copy['expt'] == '23 KPE GG AW') ][['entry', 'yield']])"
   ]
  },
  {
   "cell_type": "code",
   "execution_count": 25,
   "metadata": {},
   "outputs": [
    {
     "name": "stdout",
     "output_type": "stream",
     "text": [
      "True\n",
      "True\n",
      "True\n",
      "True\n"
     ]
    }
   ],
   "source": [
    "# MAYBE ONLY plot AND EXPT ARE ENOUGH TO IDENTIFY A UNIQUE ENTRY AND YIELD\n",
    "\n",
    "print(multispectral_copy.groupby(['expt', 'plot'])['entry'].nunique().all())\n",
    "print(thermal_copy.groupby(['expt', 'plot'])['entry'].nunique().all())\n",
    "\n",
    "print(multispectral_copy.groupby(['expt', 'plot'])['yield'].nunique().all())\n",
    "print(thermal_copy.groupby(['expt', 'plot'])['yield'].nunique().all())\n",
    "\n",
    "# MAYBE ONLY plot AND EXPT ARE ENOUGH TO IDENTIFY A UNIQUE ENTRY AND YIELD"
   ]
  },
  {
   "cell_type": "code",
   "execution_count": 34,
   "metadata": {},
   "outputs": [
    {
     "name": "stdout",
     "output_type": "stream",
     "text": [
      "               expt  plot      yield\n",
      "3320   23 KPE GG AW   661  31.576054\n",
      "4680   23 KPE GG AW   661  31.576054\n",
      "6040   23 KPE GG AW   661  31.576054\n",
      "3541   23 KPE GG AW   882  38.002307\n",
      "4901   23 KPE GG AW   882  38.002307\n",
      "6261   23 KPE GG AW   882  38.002307\n",
      "3762   23 KPE GG AW  1103  48.270324\n",
      "5122   23 KPE GG AW  1103  48.270324\n",
      "6482   23 KPE GG AW  1103  48.270324\n",
      "3979   23 KPE GG AW  1320  39.066174\n",
      "5339   23 KPE GG AW  1320  39.066174\n",
      "6699   23 KPE GG AW  1320  39.066174\n",
      "2640  23 KPE GG AWD     1  14.109207\n",
      "4000  23 KPE GG AWD     1  14.109207\n",
      "5360  23 KPE GG AWD     1  14.109207\n",
      "2861  23 KPE GG AWD   222  10.708277\n",
      "4221  23 KPE GG AWD   222  10.708277\n",
      "5581  23 KPE GG AWD   222  10.708277\n",
      "3082  23 KPE GG AWD   443  17.111549\n",
      "4442  23 KPE GG AWD   443  17.111549\n",
      "5802  23 KPE GG AWD   443  17.111549\n",
      "3299  23 KPE GG AWD   660   15.96098\n",
      "4659  23 KPE GG AWD   660   15.96098\n",
      "6019  23 KPE GG AWD   660   15.96098\n",
      "0      23 KPE GG F1  1321  58.739494\n",
      "660    23 KPE GG F1  1321  58.739494\n",
      "1320   23 KPE GG F1  1321  58.739494\n",
      "1980   23 KPE GG F1  1321  58.739494\n",
      "221    23 KPE GG F1  1542  58.014429\n",
      "881    23 KPE GG F1  1542  58.014429\n",
      "1541   23 KPE GG F1  1542  58.014429\n",
      "2201   23 KPE GG F1  1542  58.014429\n",
      "442    23 KPE GG F1  1763  41.523482\n",
      "1102   23 KPE GG F1  1763  41.523482\n",
      "1762   23 KPE GG F1  1763  41.523482\n",
      "2422   23 KPE GG F1  1763  41.523482\n",
      "659    23 KPE GG F1  1980  24.041117\n",
      "1319   23 KPE GG F1  1980  24.041117\n",
      "1979   23 KPE GG F1  1980  24.041117\n",
      "2639   23 KPE GG F1  1980  24.041117\n"
     ]
    }
   ],
   "source": [
    "# print yield,plot, expt  for entry 621\n",
    "print(thermal_copy.loc[thermal_copy['entry'] == 621][['expt', 'plot', 'yield']])"
   ]
  },
  {
   "cell_type": "code",
   "execution_count": 37,
   "metadata": {},
   "outputs": [
    {
     "data": {
      "text/html": [
       "<div>\n",
       "<style scoped>\n",
       "    .dataframe tbody tr th:only-of-type {\n",
       "        vertical-align: middle;\n",
       "    }\n",
       "\n",
       "    .dataframe tbody tr th {\n",
       "        vertical-align: top;\n",
       "    }\n",
       "\n",
       "    .dataframe thead th {\n",
       "        text-align: right;\n",
       "    }\n",
       "</style>\n",
       "<table border=\"1\" class=\"dataframe\">\n",
       "  <thead>\n",
       "    <tr style=\"text-align: right;\">\n",
       "      <th></th>\n",
       "      <th>22180</th>\n",
       "      <th>22840</th>\n",
       "      <th>23500</th>\n",
       "      <th>24160</th>\n",
       "      <th>24820</th>\n",
       "      <th>25480</th>\n",
       "      <th>26140</th>\n",
       "      <th>26800</th>\n",
       "      <th>22401</th>\n",
       "      <th>23061</th>\n",
       "      <th>...</th>\n",
       "      <th>2639</th>\n",
       "      <th>3299</th>\n",
       "      <th>3959</th>\n",
       "      <th>4619</th>\n",
       "      <th>5279</th>\n",
       "      <th>5939</th>\n",
       "      <th>6599</th>\n",
       "      <th>7259</th>\n",
       "      <th>7919</th>\n",
       "      <th>8579</th>\n",
       "    </tr>\n",
       "  </thead>\n",
       "  <tbody>\n",
       "    <tr>\n",
       "      <th>expt</th>\n",
       "      <td>22 KPE GG F2</td>\n",
       "      <td>22 KPE GG F2</td>\n",
       "      <td>22 KPE GG F2</td>\n",
       "      <td>22 KPE GG F2</td>\n",
       "      <td>22 KPE GG F2</td>\n",
       "      <td>22 KPE GG F2</td>\n",
       "      <td>22 KPE GG F2</td>\n",
       "      <td>22 KPE GG F2</td>\n",
       "      <td>22 KPE GG F2</td>\n",
       "      <td>22 KPE GG F2</td>\n",
       "      <td>...</td>\n",
       "      <td>23 KPE GG F1</td>\n",
       "      <td>23 KPE GG F1</td>\n",
       "      <td>23 KPE GG F1</td>\n",
       "      <td>23 KPE GG F1</td>\n",
       "      <td>23 KPE GG F1</td>\n",
       "      <td>23 KPE GG F1</td>\n",
       "      <td>23 KPE GG F1</td>\n",
       "      <td>23 KPE GG F1</td>\n",
       "      <td>23 KPE GG F1</td>\n",
       "      <td>23 KPE GG F1</td>\n",
       "    </tr>\n",
       "    <tr>\n",
       "      <th>plot</th>\n",
       "      <td>1321</td>\n",
       "      <td>1321</td>\n",
       "      <td>1321</td>\n",
       "      <td>1321</td>\n",
       "      <td>1321</td>\n",
       "      <td>1321</td>\n",
       "      <td>1321</td>\n",
       "      <td>1321</td>\n",
       "      <td>1542</td>\n",
       "      <td>1542</td>\n",
       "      <td>...</td>\n",
       "      <td>1980</td>\n",
       "      <td>1980</td>\n",
       "      <td>1980</td>\n",
       "      <td>1980</td>\n",
       "      <td>1980</td>\n",
       "      <td>1980</td>\n",
       "      <td>1980</td>\n",
       "      <td>1980</td>\n",
       "      <td>1980</td>\n",
       "      <td>1980</td>\n",
       "    </tr>\n",
       "    <tr>\n",
       "      <th>yield</th>\n",
       "      <td>40.344068</td>\n",
       "      <td>40.344068</td>\n",
       "      <td>40.344068</td>\n",
       "      <td>40.344068</td>\n",
       "      <td>40.344068</td>\n",
       "      <td>40.344068</td>\n",
       "      <td>40.344068</td>\n",
       "      <td>40.344068</td>\n",
       "      <td>47.070503</td>\n",
       "      <td>47.070503</td>\n",
       "      <td>...</td>\n",
       "      <td>24.041117</td>\n",
       "      <td>24.041117</td>\n",
       "      <td>24.041117</td>\n",
       "      <td>24.041117</td>\n",
       "      <td>24.041117</td>\n",
       "      <td>24.041117</td>\n",
       "      <td>24.041117</td>\n",
       "      <td>24.041117</td>\n",
       "      <td>24.041117</td>\n",
       "      <td>24.041117</td>\n",
       "    </tr>\n",
       "  </tbody>\n",
       "</table>\n",
       "<p>3 rows × 164 columns</p>\n",
       "</div>"
      ],
      "text/plain": [
       "              22180         22840         23500         24160         24820  \\\n",
       "expt   22 KPE GG F2  22 KPE GG F2  22 KPE GG F2  22 KPE GG F2  22 KPE GG F2   \n",
       "plot           1321          1321          1321          1321          1321   \n",
       "yield     40.344068     40.344068     40.344068     40.344068     40.344068   \n",
       "\n",
       "              25480         26140         26800         22401         23061  \\\n",
       "expt   22 KPE GG F2  22 KPE GG F2  22 KPE GG F2  22 KPE GG F2  22 KPE GG F2   \n",
       "plot           1321          1321          1321          1542          1542   \n",
       "yield     40.344068     40.344068     40.344068     47.070503     47.070503   \n",
       "\n",
       "       ...         2639          3299          3959          4619   \\\n",
       "expt   ...  23 KPE GG F1  23 KPE GG F1  23 KPE GG F1  23 KPE GG F1   \n",
       "plot   ...          1980          1980          1980          1980   \n",
       "yield  ...     24.041117     24.041117     24.041117     24.041117   \n",
       "\n",
       "              5279          5939          6599          7259          7919   \\\n",
       "expt   23 KPE GG F1  23 KPE GG F1  23 KPE GG F1  23 KPE GG F1  23 KPE GG F1   \n",
       "plot           1980          1980          1980          1980          1980   \n",
       "yield     24.041117     24.041117     24.041117     24.041117     24.041117   \n",
       "\n",
       "              8579   \n",
       "expt   23 KPE GG F1  \n",
       "plot           1980  \n",
       "yield     24.041117  \n",
       "\n",
       "[3 rows x 164 columns]"
      ]
     },
     "execution_count": 37,
     "metadata": {},
     "output_type": "execute_result"
    }
   ],
   "source": [
    "multispectral_copy.loc[multispectral_copy['entry'] == 621][['expt', 'plot', 'yield']].T\n"
   ]
  },
  {
   "cell_type": "code",
   "execution_count": 41,
   "metadata": {},
   "outputs": [
    {
     "name": "stdout",
     "output_type": "stream",
     "text": [
      "22180    40.344068\n",
      "22840    40.344068\n",
      "23500    40.344068\n",
      "24160    40.344068\n",
      "24820    40.344068\n",
      "25480    40.344068\n",
      "26140    40.344068\n",
      "26800    40.344068\n",
      "0        58.739494\n",
      "660      58.739494\n",
      "1320     58.739494\n",
      "1980     58.739494\n",
      "2640     58.739494\n",
      "3300     58.739494\n",
      "3960     58.739494\n",
      "4620     58.739494\n",
      "5280     58.739494\n",
      "5940     58.739494\n",
      "6600     58.739494\n",
      "7260     58.739494\n",
      "7920     58.739494\n",
      "Name: yield, dtype: object\n",
      "**************************************************\n"
     ]
    },
    {
     "data": {
      "text/plain": [
       "0       58.739494\n",
       "660     58.739494\n",
       "1320    58.739494\n",
       "1980    58.739494\n",
       "Name: yield, dtype: object"
      ]
     },
     "execution_count": 41,
     "metadata": {},
     "output_type": "execute_result"
    }
   ],
   "source": [
    "# print yield for entry 621, plot 1321\n",
    "print(multispectral_copy.loc[(multispectral_copy['entry'] == 621) & (multispectral_copy['plot'] == 1321)]['yield'])\n",
    "print(\"*\"*50)\n",
    "thermal_copy.loc[(thermal_copy['entry'] == 621) & (thermal_copy['plot'] == 1321)]['yield']"
   ]
  },
  {
   "cell_type": "code",
   "execution_count": 42,
   "metadata": {},
   "outputs": [],
   "source": [
    "# entry AND plot ARE NOT UNIQUE TOGETHER"
   ]
  },
  {
   "cell_type": "code",
   "execution_count": null,
   "metadata": {},
   "outputs": [],
   "source": [
    "# different expt and same entry are yield values different?\n",
    "# diff stage , same (plot, expt, entry) -> yield (ONLY multi spectral data)\n",
    "\n",
    "# aggreate stage, predict yield \n",
    "\n",
    "# merge thermal and multispectral data -> unique plot, expt, entry\n",
    "\n",
    "'''\n",
    "for one expt, plot, entry combination, aggregate all the spectral/thermal data and predict yield/maturity \n",
    "\n",
    "For one expt, plot, entry, stage (thermal and spectral data available) combination, use directly the data at that stage to predict yield \n",
    "\t- what stage is most predictive (in other words, gives the smallest RMSE error)?\n",
    "\t\n",
    "\n",
    "For spectral, we can consider all stages for which we have data and we can see if spectral data by itself at a particular stage can predict yield\n",
    "'''"
   ]
  }
 ],
 "metadata": {
  "kernelspec": {
   "display_name": "REMOTE",
   "language": "python",
   "name": "python3"
  },
  "language_info": {
   "codemirror_mode": {
    "name": "ipython",
    "version": 3
   },
   "file_extension": ".py",
   "mimetype": "text/x-python",
   "name": "python",
   "nbconvert_exporter": "python",
   "pygments_lexer": "ipython3",
   "version": "3.10.12"
  }
 },
 "nbformat": 4,
 "nbformat_minor": 2
}
